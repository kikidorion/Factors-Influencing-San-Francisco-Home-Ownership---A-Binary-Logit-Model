{
 "cells": [
  {
   "cell_type": "markdown",
   "id": "bbbaa871",
   "metadata": {},
   "source": [
    "by Kiara Dorion\n",
    "ECON611 - Computation for Economics - University of San Francisco - Fall 2024"
   ]
  },
  {
   "cell_type": "markdown",
   "id": "5dcbbc44",
   "metadata": {},
   "source": [
    "This analysis examines the factors influencing San Francisco residents’ decisions to own a home. \n",
    "Using a binary logit model, we assess the impact of key predictors, estimate parameters with \n",
    "Maximum Likelihood Estimation (MLE), and evaluate the goodness-of-fit metrics to provide actionable insights."
   ]
  },
  {
   "cell_type": "markdown",
   "id": "2d7c8691",
   "metadata": {},
   "source": [
    "Source: San Francisco City Survey Data (https://data.sfgov.org/City-Management-and-Ethics/San-Francisco-City-Survey-Data/nufj-bfbw/about_data)"
   ]
  },
  {
   "cell_type": "markdown",
   "id": "739c81f8",
   "metadata": {},
   "source": [
    "Description: The dataset contains detailed demographic and perception data for San Francisco residents, collected through city surveys."
   ]
  },
  {
   "cell_type": "code",
   "execution_count": null,
   "id": "0c2c6c59",
   "metadata": {},
   "outputs": [],
   "source": [
    "1.\tdem_homeown: Binary dependent variable indicating homeownership status.\n",
    "\t•\tValues: Own (1), Not Own (0) -- post-dummy variable conversion\n",
    "2.\tdem_hhsize: Number of people in the household (numeric).\n",
    "3.\tchild_05: Number of children aged 0–5 in the household (numeric).\n",
    "4.\tchild_617: Number of children aged 6–17 in the household (numeric).\n",
    "5.\tsafe_day: Perceived neighborhood safety during the day (numeric, scale 1–5).\n",
    "6.\tsafe_polqual: Perceived quality of neighborhood police services (numeric, scale 1–5).\n",
    "7.\tdem_gender: Gender of respondent.\n",
    "\t•\tValues: Male (0), Female (1), Others (3) -- post-conversion from object to numeric"
   ]
  },
  {
   "cell_type": "code",
   "execution_count": null,
   "id": "4feee9a7",
   "metadata": {},
   "outputs": [],
   "source": [
    "1.\tdem_homeown: Binary dependent variable indicating homeownership status.\n",
    "\t•\tValues: Own (1), Not Own (0) -- post-dummy variable conversion\n",
    "2.\tdem_hhsize: Number of people in the household (numeric).\n",
    "3.\tchild_05: Number of children aged 0–5 in the household (numeric).\n",
    "4.\tchild_617: Number of children aged 6–17 in the household (numeric).\n",
    "5.\tsafe_day: Perceived neighborhood safety during the day (numeric, scale 1–5).\n",
    "6.\tsafe_polqual: Perceived quality of neighborhood police services (numeric, scale 1–5).\n",
    "7.\tdem_gender: Gender of respondent.\n",
    "\t•\tValues: Male (0), Female (1), Others (3) -- post-conversion from object to numeric"
   ]
  },
  {
   "cell_type": "markdown",
   "id": "c805a81e",
   "metadata": {},
   "source": [
    "We begin by selecting relevant columns from the dataset, handling missing values, and creating features for model compatibility."
   ]
  },
  {
   "cell_type": "code",
   "execution_count": null,
   "id": "6167c3d8",
   "metadata": {},
   "outputs": [],
   "source": [
    "1.\tFilter relevant variables: Include demographic and safety-related predictors that plausibly influence homeownership."
   ]
  },
  {
   "cell_type": "code",
   "execution_count": null,
   "id": "e7aa3f20",
   "metadata": {},
   "outputs": [],
   "source": [
    "1.\tFilter relevant variables: Include demographic and safety-related predictors that plausibly influence homeownership."
   ]
  },
  {
   "cell_type": "code",
   "execution_count": null,
   "id": "9c612167",
   "metadata": {},
   "outputs": [],
   "source": [
    "import pandas as pd\n",
    "import numpy as np\n",
    "import statsmodels.api as sm\n",
    "import matplotlib.pyplot as plt\n",
    "from scipy import optimize\n",
    "\n",
    "file_path = '/Users/kdorion/Documents/MSAE/2024/Fall_2024/ECON611/FINAL PROJECT/San_Francisco_City_Survey_Data.csv'\n",
    "columns_to_use = ['dem_homeown', 'dem_hhsize', 'child_05', 'child_617', \n",
    "                  'safe_day', 'safe_polqual', 'dem_gender']\n",
    "df = pd.read_csv(file_path, usecols=columns_to_use)\n",
    "\n",
    "df = df.dropna()\n",
    "\n",
    "print(df.info())\n",
    "print(df.head())"
   ]
  },
  {
   "cell_type": "code",
   "execution_count": null,
   "id": "9aa87bd1",
   "metadata": {},
   "outputs": [],
   "source": [
    "<class 'pandas.core.frame.DataFrame'>\n",
    "Index: 2297 entries, 0 to 2529\n",
    "Data columns (total 7 columns):\n",
    " #   Column        Non-Null Count  Dtype  \n",
    "---  ------        --------------  -----  \n",
    " 0   safe_day      2297 non-null   float64\n",
    " 1   safe_polqual  2297 non-null   float64\n",
    " 2   child_05      2297 non-null   float64\n",
    " 3   child_617     2297 non-null   float64\n",
    " 4   dem_homeown   2297 non-null   object \n",
    " 5   dem_hhsize    2297 non-null   float64\n",
    " 6   dem_gender    2297 non-null   object \n",
    "dtypes: float64(5), object(2)\n",
    "memory usage: 143.6+ KB\n",
    "None\n",
    "   safe_day  safe_polqual  child_05  child_617 dem_homeown  dem_hhsize  \\\n",
    "0       4.0           3.0       0.0        0.0         Own         1.0   \n",
    "1       5.0           3.0       1.0        0.0        Rent         3.0   \n",
    "2       5.0           2.0       0.0        0.0        Rent         4.0   \n",
    "3       5.0           5.0       0.0        0.0        Rent         1.0   \n",
    "4       4.0           4.0       0.0        0.0        Rent         3.0   \n",
    "\n",
    "  dem_gender  \n",
    "0       Male  \n",
    "1       Male  \n",
    "2       Male  \n",
    "3       Male  \n",
    "4     Female"
   ]
  },
  {
   "cell_type": "code",
   "execution_count": null,
   "id": "471083a9",
   "metadata": {},
   "outputs": [],
   "source": [
    "/var/folders/6j/pmgy91ns295gxlfrv0dz53bmt6tjzs/T/ipykernel_31823/55862392.py:10: DtypeWarning: Columns (91) have mixed types. Specify dtype option on import or set low_memory=False.\n",
    "  df = pd.read_csv(file_path, usecols=columns_to_use)"
   ]
  },
  {
   "cell_type": "code",
   "execution_count": null,
   "id": "3dd0a36c",
   "metadata": {},
   "outputs": [],
   "source": [
    "1.\tBinary Encoding: Convert the dependent variable dem_homeown into binary (1 = Own, 0 = Not Own).\n",
    "2.\tFeature Transformation: Map dem_gender into numeric categories (Male = 0, Female = 1, Others = 3)."
   ]
  },
  {
   "cell_type": "code",
   "execution_count": null,
   "id": "1fa3ca9d",
   "metadata": {},
   "outputs": [],
   "source": [
    "1.\tBinary Encoding: Convert the dependent variable dem_homeown into binary (1 = Own, 0 = Not Own).\n",
    "2.\tFeature Transformation: Map dem_gender into numeric categories (Male = 0, Female = 1, Others = 3)."
   ]
  },
  {
   "cell_type": "code",
   "execution_count": null,
   "id": "d2e8e956",
   "metadata": {},
   "outputs": [],
   "source": [
    "#verify unique values in 'dem_homeown' and 'dem_gender' (the two variables with OBJECT datatypes)\n",
    "print('Unique values in dem_homeown before converting:', df['dem_homeown'].unique())\n",
    "print('Unique values in dem_gender before converting:', df['dem_gender'].unique())\n",
    "\n",
    "# Convert 'dem_homeown' to binary and to a float datatype\n",
    "df['dem_homeown'] = pd.get_dummies(df['dem_homeown'])['Own']\n",
    "\n",
    "# Function to map 'dem_gender' values\n",
    "def map_gender(value):\n",
    "    if value == 'Male':\n",
    "        return 0.0\n",
    "    elif value == 'Female':\n",
    "        return 1.0\n",
    "    else:\n",
    "        return 3.0\n",
    "\n",
    "# Apply the function to transform 'dem_gender'\n",
    "df['dem_gender'] = df['dem_gender'].apply(map_gender)\n",
    "\n",
    "# Verify the transformation\n",
    "print('Unique values in dem_homeown after converting:', df['dem_gender'].unique())\n",
    "print('Unique values in dem_gender after converting:', df['dem_gender'].unique())"
   ]
  },
  {
   "cell_type": "code",
   "execution_count": null,
   "id": "3349e02f",
   "metadata": {},
   "outputs": [],
   "source": [
    "Unique values in dem_homeown before converting: ['Own' 'Rent' 'Other']\n",
    "Unique values in dem_gender before converting: ['Male' 'Female' 'Genderqueer/Non-Binary' 'Not listed' 'Trans Female'\n",
    " 'Trans Male']\n",
    "Unique values in dem_homeown after converting: [0. 1. 3.]\n",
    "Unique values in dem_gender after converting: [0. 1. 3.]"
   ]
  },
  {
   "cell_type": "markdown",
   "id": "1e959f85",
   "metadata": {},
   "source": [
    "Standardization scales numeric predictors to ensure comparability of coefficients and facilitates the optimization process during MLE."
   ]
  },
  {
   "cell_type": "code",
   "execution_count": null,
   "id": "7845c64b",
   "metadata": {},
   "outputs": [],
   "source": [
    "# Define a standardization function\n",
    "def standardize_numeric_features(df, column):\n",
    "    var_mean = df[column].mean()\n",
    "    var_std = df[column].std()\n",
    "    df[column] = round((df[column] - var_mean) / var_std, 6)\n",
    "    return df[column]\n",
    "\n",
    "numeric_columns = ['dem_hhsize', 'child_05', 'child_617', 'safe_day', 'safe_polqual', 'dem_gender']\n",
    "for col in numeric_columns:\n",
    "    df[col] = standardize_numeric_features(df, col)\n",
    "\n",
    "df['intercept'] = 1\n",
    "\n",
    "print(df.head())"
   ]
  },
  {
   "cell_type": "code",
   "execution_count": null,
   "id": "f3bc4208",
   "metadata": {},
   "outputs": [],
   "source": [
    "safe_day  safe_polqual  child_05  child_617  dem_homeown  dem_hhsize  \\\n",
    "0  0.317226     -0.103398 -0.408056  -0.549566         True   -0.086782   \n",
    "1  1.209107     -0.103398  2.449579  -0.549566        False   -0.031302   \n",
    "2  1.209107     -1.034794 -0.408056  -0.549566        False   -0.003563   \n",
    "3  1.209107      1.759393 -0.408056  -0.549566        False   -0.086782   \n",
    "4  0.317226      0.827998 -0.408056  -0.549566        False   -0.031302   \n",
    "\n",
    "   dem_gender  intercept  \n",
    "0   -0.915557          1  \n",
    "1   -0.915557          1  \n",
    "2   -0.915557          1  \n",
    "3   -0.915557          1  \n",
    "4    0.811072          1"
   ]
  },
  {
   "cell_type": "markdown",
   "id": "481a741b",
   "metadata": {},
   "source": [
    "Using the statsmodels library, we fit a binary logit model to estimate the relationship between predictors and the likelihood of homeownership."
   ]
  },
  {
   "cell_type": "markdown",
   "id": "64a0c83d",
   "metadata": {},
   "source": [
    "Mathematics:\n",
    "The logit model expresses the log-odds of the dependent variable  Y  as:"
   ]
  },
  {
   "cell_type": "code",
   "execution_count": null,
   "id": "51627dac",
   "metadata": {},
   "outputs": [],
   "source": [
    "# Fit the binary logistic regression model\n",
    "logit_model = sm.Logit(df['dem_homeown'], df[['intercept'] + numeric_columns]).fit()\n",
    "\n",
    "print(logit_model.summary())"
   ]
  },
  {
   "cell_type": "code",
   "execution_count": null,
   "id": "4e9b2323",
   "metadata": {},
   "outputs": [],
   "source": [
    "Optimization terminated successfully.\n",
    "         Current function value: 0.681941\n",
    "         Iterations 4\n",
    "                           Logit Regression Results                           \n",
    "==============================================================================\n",
    "Dep. Variable:            dem_homeown   No. Observations:                 2297\n",
    "Model:                          Logit   Df Residuals:                     2290\n",
    "Method:                           MLE   Df Model:                            6\n",
    "Date:                Fri, 13 Dec 2024   Pseudo R-squ.:                0.005247\n",
    "Time:                        22:18:43   Log-Likelihood:                -1566.4\n",
    "converged:                       True   LL-Null:                       -1574.7\n",
    "Covariance Type:            nonrobust   LLR p-value:                   0.01120\n",
    "================================================================================\n",
    "                   coef    std err          z      P>|z|      [0.025      0.975]\n",
    "--------------------------------------------------------------------------------\n",
    "intercept       -0.2490      0.042     -5.900      0.000      -0.332      -0.166\n",
    "dem_hhsize       0.0465      0.046      1.015      0.310      -0.043       0.136\n",
    "child_05         0.0208      0.043      0.479      0.632      -0.064       0.106\n",
    "child_617        0.1311      0.043      3.015      0.003       0.046       0.216\n",
    "safe_day        -0.0666      0.045     -1.495      0.135      -0.154       0.021\n",
    "safe_polqual     0.0659      0.045      1.479      0.139      -0.021       0.153\n",
    "dem_gender      -0.0226      0.042     -0.533      0.594      -0.106       0.061\n",
    "================================================================================"
   ]
  },
  {
   "cell_type": "markdown",
   "id": "eaa5a91d",
   "metadata": {},
   "source": [
    "To complement the logit model, we estimate parameters using MLE to find the parameters\n",
    "() that maximize the likelihood of the observed data."
   ]
  },
  {
   "cell_type": "markdown",
   "id": "405f6e6a",
   "metadata": {},
   "source": [
    "Sigmoid (the probability of choosing one alternative over another) Function:"
   ]
  },
  {
   "cell_type": "markdown",
   "id": "f9679ff6",
   "metadata": {},
   "source": [
    "“Own” = 1, “Not Own” = 0. The probability of the outcome depends on predictors (dependent variables, i.e. gender ('dem_gender') \n",
    "and the coefficients  $\\beta$, modeled by the sigmoid function."
   ]
  },
  {
   "cell_type": "markdown",
   "id": "7e680bd4",
   "metadata": {},
   "source": [
    "Where:\n",
    "$$X = \\beta_0 + \\beta_1X_1 + \\beta_2X_2 + \\dots + \\beta_kX_k$$  is the representative utility (weighted sum of the predictors)\n",
    "$\\exp$  is the exponential function (ensures probabilities  P(y=1|X)  are between 0 and 1)"
   ]
  },
  {
   "cell_type": "markdown",
   "id": "fc26aa10",
   "metadata": {},
   "source": [
    "Log-Likelihood Function:"
   ]
  },
  {
   "cell_type": "code",
   "execution_count": null,
   "id": "5f797313",
   "metadata": {},
   "outputs": [],
   "source": [
    "•\tIf someone owns a home ( y=1 ), the likelihood is just  P(y=1|X) .\n",
    "•\tIf someone doesn’t own a home ( y=0 ), the likelihood is  1 - P(y=1|X) ."
   ]
  },
  {
   "cell_type": "code",
   "execution_count": null,
   "id": "ec60cfae",
   "metadata": {},
   "outputs": [],
   "source": [
    "•\tIf someone owns a home ( y=1 ), the likelihood is just  P(y=1|X) .\n",
    "•\tIf someone doesn’t own a home ( y=0 ), the likelihood is  1 - P(y=1|X) ."
   ]
  },
  {
   "cell_type": "markdown",
   "id": "cbc16620",
   "metadata": {},
   "source": [
    "For all observations combined, the total likelihood is the product of the individual likelihoods."
   ]
  },
  {
   "cell_type": "markdown",
   "id": "19d7e1ae",
   "metadata": {},
   "source": [
    "Log-Likelihood is maximized by taking the derivative of  $\\ln(L)$  with respect to each  $\\beta$ .\n",
    "Finally we solve for FONC, where the derivatives are equal to zero. This finds the values of  $\\beta$  that give the maximum log-likelihood."
   ]
  },
  {
   "cell_type": "markdown",
   "id": "5f6dbf9f",
   "metadata": {},
   "source": [
    "These coefficients tell us:"
   ]
  },
  {
   "cell_type": "code",
   "execution_count": null,
   "id": "7a774ada",
   "metadata": {},
   "outputs": [],
   "source": [
    "def sigmoid(data, beta):\n",
    "    \"\"\"\n",
    "    for converting representative utility into logit probabilities.\n",
    "    \"\"\"\n",
    "    Xb = np.dot(data, beta)\n",
    "    eXb = np.exp(Xb)\n",
    "    probs = eXb/ (1 + eXb)\n",
    "    return probs"
   ]
  },
  {
   "cell_type": "code",
   "execution_count": null,
   "id": "e335ac9c",
   "metadata": {},
   "outputs": [],
   "source": [
    "def LL_logit(params, *args):\n",
    "    y, X = args\n",
    "    beta = np.array(params)\n",
    "\n",
    "    # Compute probabilities\n",
    "    probs = sigmoid(X, beta)\n",
    "    \n",
    "    # Log-likelihood computation\n",
    "    ll = y * np.log(probs) + (1 - y) * np.log(1 - probs)\n",
    "    \n",
    "    return -np.sum(ll)"
   ]
  },
  {
   "cell_type": "code",
   "execution_count": null,
   "id": "34a5450d",
   "metadata": {},
   "outputs": [],
   "source": [
    "y = df['dem_homeown'].to_numpy()  # Dependent variable\n",
    "X = df[['intercept'] + numeric_columns].to_numpy()  # Independent variables\n",
    "\n",
    "# Initial random values for parameters\n",
    "start_values = np.zeros(X.shape[1])  # Start with zeros"
   ]
  },
  {
   "cell_type": "code",
   "execution_count": null,
   "id": "eb206491",
   "metadata": {},
   "outputs": [],
   "source": [
    "# Perform MLE optimization\n",
    "result = optimize.minimize(\n",
    "    LL_logit, \n",
    "    x0=start_values, \n",
    "    args=(y, X), \n",
    "    method='BFGS'\n",
    ")\n",
    "\n",
    "estimated_params = result['x']\n",
    "print('Estimated Parameters:\\n', estimated_params)"
   ]
  },
  {
   "cell_type": "code",
   "execution_count": null,
   "id": "9614fa9f",
   "metadata": {},
   "outputs": [],
   "source": [
    "Estimated Parameters:\n",
    " [-0.24903026  0.04648287  0.0207879   0.13107236 -0.06661513  0.06588379\n",
    " -0.02261164]"
   ]
  },
  {
   "cell_type": "code",
   "execution_count": null,
   "id": "1b5adf85",
   "metadata": {},
   "outputs": [],
   "source": [
    "# Compute the log-likelihood for the estimated parameters\n",
    "final_ll = -LL_logit(result['x'], y, X)\n",
    "print('Final Log-Likelihood:', final_ll)"
   ]
  },
  {
   "cell_type": "code",
   "execution_count": null,
   "id": "81dbe4d3",
   "metadata": {},
   "outputs": [],
   "source": [
    "Final Log-Likelihood: -1566.419519824517"
   ]
  },
  {
   "cell_type": "code",
   "execution_count": null,
   "id": "9510e596",
   "metadata": {},
   "outputs": [],
   "source": [
    "•\tStatsmodels Coef: Coefficients estimated using the logit model, representing the log-odds effect of each predictor on homeownership.\n",
    "•\tMLE Coef: Parameters derived from maximizing the likelihood function, validating the statsmodels estimates."
   ]
  },
  {
   "cell_type": "code",
   "execution_count": null,
   "id": "ddbe49b1",
   "metadata": {},
   "outputs": [],
   "source": [
    "•\tStatsmodels Coef: Coefficients estimated using the logit model, representing the log-odds effect of each predictor on homeownership.\n",
    "•\tMLE Coef: Parameters derived from maximizing the likelihood function, validating the statsmodels estimates."
   ]
  },
  {
   "cell_type": "code",
   "execution_count": null,
   "id": "41ca68e8",
   "metadata": {},
   "outputs": [],
   "source": [
    "#Analyze coefficients from statsmodels and MLE\n",
    "MLE_results = pd.DataFrame({\n",
    "    'Variable': ['intercept'] + numeric_columns,\n",
    "    'Statsmodels Coef': logit_model.params.values,  # Use params from the fitted statsmodels logit model\n",
    "    'MLE Coef': estimated_params,  # Use the MLE estimated parameters\n",
    "})\n",
    "\n",
    "print(MLE_results)"
   ]
  },
  {
   "cell_type": "code",
   "execution_count": null,
   "id": "f97f17f0",
   "metadata": {},
   "outputs": [],
   "source": [
    "Variable  Statsmodels Coef  MLE Coef\n",
    "0     intercept         -0.249030 -0.249030\n",
    "1    dem_hhsize          0.046483  0.046483\n",
    "2      child_05          0.020788  0.020788\n",
    "3     child_617          0.131072  0.131072\n",
    "4      safe_day         -0.066615 -0.066615\n",
    "5  safe_polqual          0.065884  0.065884\n",
    "6    dem_gender         -0.022612 -0.022612"
   ]
  },
  {
   "cell_type": "markdown",
   "id": "95c493f4",
   "metadata": {},
   "source": [
    "The binary logit model highlights key factors influencing homeownership in San Francisco. Perceptions of quality of police safety (safe_polqual), emerged as the most significant positive predictor of homeownership likelihood. Improved safety during the day (safe_day) also positively correlates with ownership, though to a lesser extent. Household size (dem_hhsize) shows a smaller but positive effect, suggesting that larger households are more likely to own homes. Variables related to the presence of children (child_05 and child_617) had minimal impact, reflecting limited influence on ownership decisions in this urban setting."
   ]
  },
  {
   "cell_type": "code",
   "execution_count": null,
   "id": "33ebdbeb",
   "metadata": {},
   "outputs": [],
   "source": [
    "import matplotlib.pyplot as plt\n",
    "\n",
    "coefficients = binary_logit.params.values\n",
    "variables = ['Intercept'] + numeric_columns\n",
    "\n",
    "plt.barh(variables, coefficients, color='skyblue', edgecolor='black')\n",
    "plt.title('Coefficient Effects and Directions')\n",
    "plt.xlabel('Coefficient Value (Log-Odds)')\n",
    "plt.ylabel('Predictor')\n",
    "plt.grid(True, linestyle='--', alpha=0.7)\n",
    "plt.show()"
   ]
  },
  {
   "cell_type": "code",
   "execution_count": null,
   "id": "a1f03f59",
   "metadata": {},
   "outputs": [],
   "source": [
    "•\tRedder regions indicate stronger positive log-odds, meaning that as \n",
    "    the predictor value increases, the likelihood of owning a home significantly rises.\n",
    "•\tBluer regions indicate negative log-odds, suggesting that higher predictor values\n",
    "    decrease the likelihood of homeownership."
   ]
  },
  {
   "cell_type": "code",
   "execution_count": null,
   "id": "ddeac217",
   "metadata": {},
   "outputs": [],
   "source": [
    "•\tRedder regions indicate stronger positive log-odds, meaning that as \n",
    "    the predictor value increases, the likelihood of owning a home significantly rises.\n",
    "•\tBluer regions indicate negative log-odds, suggesting that higher predictor values\n",
    "    decrease the likelihood of homeownership."
   ]
  },
  {
   "cell_type": "markdown",
   "id": "876a1436",
   "metadata": {},
   "source": [
    "The heatmap reveals that perceptions of safety and family dynamics are significant drivers of homeownership in San Francisco."
   ]
  },
  {
   "cell_type": "code",
   "execution_count": null,
   "id": "c894cc71",
   "metadata": {},
   "outputs": [],
   "source": [
    "data = []\n",
    "x_values = np.linspace(df[numeric_columns[0]].min(), df[numeric_columns[0]].max(), 100)\n",
    "\n",
    "for column in numeric_columns:\n",
    "    m = logit_model.params[column]\n",
    "    b = logit_model.params['intercept']\n",
    "    y_values = m * x_values + b\n",
    "    data.append(y_values)\n",
    "\n",
    "data = np.array(data)\n",
    "\n",
    "plt.figure(figsize=(10, 6))\n",
    "plt.imshow(data, aspect='auto', cmap='coolwarm', extent=(x_values.min(), x_values.max(), 0, len(numeric_columns)))\n",
    "plt.colorbar(label='Log-Odds')\n",
    "plt.title('Heatmap of y = mx + b for Predictors', fontsize=14)\n",
    "plt.xlabel('Predictor Values', fontsize=12)\n",
    "plt.ylabel('Predictors', fontsize=12)\n",
    "plt.yticks(range(len(numeric_columns)), numeric_columns)\n",
    "plt.tight_layout()\n",
    "plt.show()"
   ]
  },
  {
   "cell_type": "markdown",
   "id": "6b94ad3b",
   "metadata": {},
   "source": [
    "Household Size (dem_hhsize): Larger households are more likely to own a home."
   ]
  },
  {
   "cell_type": "markdown",
   "id": "f9f2a349",
   "metadata": {},
   "source": [
    "Children (0–5) (child_05): Presence of young children increases likelihood."
   ]
  },
  {
   "cell_type": "markdown",
   "id": "649ef3d1",
   "metadata": {},
   "source": [
    "Children (6–17)\t(child_617): Households with school-aged children favor ownership."
   ]
  },
  {
   "cell_type": "markdown",
   "id": "6356563f",
   "metadata": {},
   "source": [
    "Safety (Day) (safe_day): Feeling safe during the day increases likelihood."
   ]
  },
  {
   "cell_type": "markdown",
   "id": "a194ee76",
   "metadata": {},
   "source": [
    "Police Quality (safe_polqual): Poor perceptions of police reduce likelihood."
   ]
  },
  {
   "cell_type": "markdown",
   "id": "244a5446",
   "metadata": {},
   "source": [
    "Gender (Female)\t(dem_gender | Female): \tWomen are more likely than men to own a home."
   ]
  },
  {
   "cell_type": "markdown",
   "id": "c7d4888a",
   "metadata": {},
   "source": [
    "Concluding Remarks"
   ]
  },
  {
   "cell_type": "markdown",
   "id": "d3d0c7b5",
   "metadata": {},
   "source": [
    "This binary logit analysis highlights the importance of demographic and safety-related factors in determining homeownership in San Francisco. By understanding these influences, stakeholders can design interventions that address barriers to ownership and support equitable housing opportunities. Future studies can expand on these findings by incorporating additional variables, longitudinal data, or exploring multinomial choices (e.g., renting vs. owning different types of housing)."
   ]
  }
 ],
 "metadata": {},
 "nbformat": 4,
 "nbformat_minor": 5
}
